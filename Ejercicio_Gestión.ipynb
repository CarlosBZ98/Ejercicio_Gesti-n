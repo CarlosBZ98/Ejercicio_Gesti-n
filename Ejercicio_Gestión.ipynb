{
 "cells": [
  {
   "cell_type": "markdown",
   "metadata": {},
   "source": [
    "### Ejercicio en Clase"
   ]
  },
  {
   "cell_type": "code",
   "execution_count": 16,
   "metadata": {},
   "outputs": [
    {
     "name": "stdout",
     "output_type": "stream",
     "text": [
      "Hola a todos\n"
     ]
    }
   ],
   "source": [
    "a=\"Hola a todos\"\n",
    "print(a)"
   ]
  },
  {
   "cell_type": "code",
   "execution_count": 17,
   "metadata": {},
   "outputs": [
    {
     "name": "stdout",
     "output_type": "stream",
     "text": [
      "Hola\n",
      "Como están\n"
     ]
    }
   ],
   "source": [
    "a=\"\"\"Hola\n",
    "Como están\"\"\"\n",
    "print(a)"
   ]
  },
  {
   "cell_type": "markdown",
   "metadata": {},
   "source": [
    "### Variables"
   ]
  },
  {
   "cell_type": "code",
   "execution_count": 18,
   "metadata": {},
   "outputs": [],
   "source": [
    "numero=4\n",
    "mistring=\"Hola\" #Esto es un comentario\n",
    "miBool=True"
   ]
  },
  {
   "cell_type": "code",
   "execution_count": 19,
   "metadata": {},
   "outputs": [
    {
     "name": "stdout",
     "output_type": "stream",
     "text": [
      "Hola a todos, mi edad es: 25\n"
     ]
    }
   ],
   "source": [
    "edad=25\n",
    "print(\"Hola a todos, mi edad es:\", edad)"
   ]
  },
  {
   "cell_type": "code",
   "execution_count": 20,
   "metadata": {},
   "outputs": [
    {
     "name": "stdout",
     "output_type": "stream",
     "text": [
      "Hola a todos mi nombre es Kimberly y mi edad es 25 \n"
     ]
    }
   ],
   "source": [
    "nombre=\"Kimberly\"\n",
    "print(f\"Hola a todos mi nombre es {nombre} y mi edad es {edad} \")"
   ]
  },
  {
   "cell_type": "code",
   "execution_count": 21,
   "metadata": {},
   "outputs": [
    {
     "name": "stdout",
     "output_type": "stream",
     "text": [
      "SELECT * FROM empleado\n",
      "WHERE salario >= 25000 AND estado = Finanzas \n"
     ]
    }
   ],
   "source": [
    "salario=25000\n",
    "dept=\"Finanzas\"\n",
    "miQuery= \"\"\"SELECT * FROM empleado\n",
    "WHERE salario >= {} AND estado = {} \"\"\".format(salario,dept)\n",
    "\n",
    "print(miQuery)"
   ]
  },
  {
   "cell_type": "code",
   "execution_count": 22,
   "metadata": {},
   "outputs": [
    {
     "name": "stdout",
     "output_type": "stream",
     "text": [
      "Hola, 4, esto es python\n"
     ]
    }
   ],
   "source": [
    "nombre= input(\"Ingrese su nombre:\")\n",
    "print (f\"Hola, {nombre}, esto es python\")"
   ]
  },
  {
   "cell_type": "markdown",
   "metadata": {},
   "source": [
    "### Strings"
   ]
  },
  {
   "cell_type": "code",
   "execution_count": 23,
   "metadata": {},
   "outputs": [
    {
     "data": {
      "text/plain": [
       "15"
      ]
     },
     "execution_count": 23,
     "metadata": {},
     "output_type": "execute_result"
    }
   ],
   "source": [
    "a=\"Cesar Rodriguez\"\n",
    "a[3:7]\n",
    "len(a)"
   ]
  },
  {
   "cell_type": "markdown",
   "metadata": {},
   "source": [
    "### Control de Flujo"
   ]
  },
  {
   "cell_type": "code",
   "execution_count": 24,
   "metadata": {},
   "outputs": [
    {
     "data": {
      "text/plain": [
       "True"
      ]
     },
     "execution_count": 24,
     "metadata": {},
     "output_type": "execute_result"
    }
   ],
   "source": [
    "43==34\n",
    "43==43"
   ]
  },
  {
   "cell_type": "code",
   "execution_count": 25,
   "metadata": {},
   "outputs": [
    {
     "name": "stdout",
     "output_type": "stream",
     "text": [
      "El número no es cero\n"
     ]
    }
   ],
   "source": [
    "numero= int(input(\"Ingrese un número:\"))\n",
    "if(numero!=0):\n",
    "    print(\"El número no es cero\")\n",
    "else:\n",
    "    print(\"El número es 0\")"
   ]
  },
  {
   "cell_type": "code",
   "execution_count": 26,
   "metadata": {},
   "outputs": [
    {
     "name": "stdout",
     "output_type": "stream",
     "text": [
      "El día es jueves\n"
     ]
    }
   ],
   "source": [
    "dia= int(input(\"Ingrese el número de día:\"))\n",
    "\n",
    "if(dia>=1 and dia<=7):\n",
    "    if(dia==1):\n",
    "        print(\"El día es lunes\")\n",
    "    elif(dia==2):\n",
    "        print(\"El día es martes\")\n",
    "    elif(dia==3):\n",
    "        print(\"El día es miércoles\")\n",
    "    elif(dia==4):\n",
    "        print(\"El día es jueves\")\n",
    "    elif(dia==5):\n",
    "        print(\"El día es viernes\")\n",
    "    elif(dia==6):\n",
    "        print(\"El día es sábado\")\n",
    "    elif(dia==7):\n",
    "        print(\"El día es domingo\")\n",
    "        \n",
    "else:\n",
    "    print(\"El número ingresado no pertenece a ningún día\")"
   ]
  },
  {
   "cell_type": "markdown",
   "metadata": {},
   "source": [
    "### Listas"
   ]
  },
  {
   "cell_type": "code",
   "execution_count": 27,
   "metadata": {},
   "outputs": [],
   "source": [
    "lista=[10,20,30,40,50,60]\n",
    "#1 Es dinámica\n",
    "#2 Almacena diferentes tipos de datos"
   ]
  },
  {
   "cell_type": "code",
   "execution_count": 28,
   "metadata": {},
   "outputs": [
    {
     "data": {
      "text/plain": [
       "6"
      ]
     },
     "execution_count": 28,
     "metadata": {},
     "output_type": "execute_result"
    }
   ],
   "source": [
    "lista[4]\n",
    "lista[4:]\n",
    "len(lista)"
   ]
  },
  {
   "cell_type": "code",
   "execution_count": 36,
   "metadata": {},
   "outputs": [],
   "source": [
    "lista.append(\"Data\")"
   ]
  },
  {
   "cell_type": "code",
   "execution_count": 30,
   "metadata": {},
   "outputs": [],
   "source": [
    "lista.insert(3, \"UMG\")"
   ]
  },
  {
   "cell_type": "code",
   "execution_count": 34,
   "metadata": {},
   "outputs": [
    {
     "data": {
      "text/plain": [
       "[10, 20, 30, 40, 50, 60]"
      ]
     },
     "execution_count": 34,
     "metadata": {},
     "output_type": "execute_result"
    }
   ],
   "source": [
    "lista"
   ]
  },
  {
   "cell_type": "markdown",
   "metadata": {},
   "source": [
    "### Eliminar elementos de una lista"
   ]
  },
  {
   "cell_type": "code",
   "execution_count": 32,
   "metadata": {},
   "outputs": [],
   "source": [
    "del lista [3] #Eliminar por posición"
   ]
  },
  {
   "cell_type": "code",
   "execution_count": 37,
   "metadata": {},
   "outputs": [],
   "source": [
    "lista.remove(\"Data\") #Eliminar por valor"
   ]
  },
  {
   "cell_type": "code",
   "execution_count": 38,
   "metadata": {},
   "outputs": [
    {
     "name": "stdout",
     "output_type": "stream",
     "text": [
      "Horas: 0 - Minutos: 8 - Segundos: 43\n"
     ]
    }
   ],
   "source": [
    "segundos= int(input(\"ingrese los segundos:\"))\n",
    "\n",
    "Horas = segundos // (60*60)\n",
    "segundos = segundos % (60*60)\n",
    "Minutos = segundos // (60)\n",
    "segundos = segundos % (60)\n",
    "\n",
    "print(\"Horas: {} - Minutos: {} - Segundos: {}\".format(Horas,Minutos, segundos))"
   ]
  },
  {
   "cell_type": "code",
   "execution_count": 39,
   "metadata": {},
   "outputs": [
    {
     "name": "stdout",
     "output_type": "stream",
     "text": [
      "Tienes 26 años -6 meses y -3 dias\n"
     ]
    }
   ],
   "source": [
    "from datetime import datetime\n",
    "\n",
    "dia= int(input(\"Introduce el día actual:\"))\n",
    "mes= int(input(\"Introduce el mes actual:\")) \n",
    "año= int(input(\"Introduce el año actual\"))\n",
    "\n",
    "dia_aniversario= int(input(\"Introduce el dia de tu nacimiento:\"))\n",
    "mes_aniversario= int(input(\" Introduce el mes de tu nacimiento\")) \n",
    "año_aniversario= int(input(\"Introduce el año de tu nacimiento:\"))\n",
    "\n",
    "resultado_dia= dia - dia_aniversario\n",
    "resultado_mes= mes - mes_aniversario \n",
    "resultado_año= año - año_aniversario\n",
    "\n",
    "print(\"Tienes\", resultado_año, \"años\", resultado_mes, \"meses\", \"y\", resultado_dia, \"dias\")"
   ]
  },
  {
   "cell_type": "markdown",
   "metadata": {},
   "source": [
    "### Comentarios Grupales"
   ]
  },
  {
   "cell_type": "markdown",
   "metadata": {},
   "source": [
    "### - Carlos"
   ]
  },
  {
   "cell_type": "code",
   "execution_count": null,
   "metadata": {},
   "outputs": [],
   "source": [
    "# Me pareció muy bien repasar los conceptos básicos con Anaconda, Jupyter y Python en este ejercicio, pero me \n",
    "# hubiera gustado profundizar un poco más en cada tema. Por ejemplo, aunque cubrimos listas y eliminación \n",
    "# de elementos, habría sido útil explorar otros métodos de lista y situaciones más complejas. Sin embargo, \n",
    "# aprecio la base sólida que este ejercicio proporcionó y estoy listo para seguir avanzando."
   ]
  },
  {
   "cell_type": "markdown",
   "metadata": {},
   "source": [
    "### - Evelyn"
   ]
  },
  {
   "cell_type": "code",
   "execution_count": null,
   "metadata": {},
   "outputs": [],
   "source": [
    "# La combinación de Anaconda, Jupyter y Python hizo que aprender fuera mucho más visual y dinámico. \n",
    "# Poder ver los resultados de cada línea de código justo al lado de donde lo escribí fue muy útil \n",
    "# para mi comprensión. Además, la estructura modular de Jupyter hizo que fuera fácil volver atrás \n",
    "# y modificar partes del código para experimentar."
   ]
  },
  {
   "cell_type": "markdown",
   "metadata": {},
   "source": [
    "### - Alexander"
   ]
  },
  {
   "cell_type": "code",
   "execution_count": null,
   "metadata": {},
   "outputs": [],
   "source": [
    "# Me gustó cómo este ejercicio nos llevó desde lo básico hasta habilidades más prácticas como \n",
    "# el manejo de fechas y la manipulación de listas en Python. Estos son conceptos que puedo imaginar \n",
    "# utilizando en proyectos futuros, lo que hace que este ejercicio sea aún más valioso para mí. \n",
    "# La combinación de conceptos básicos y aplicaciones prácticas realmente solidificó mi comprensión."
   ]
  },
  {
   "cell_type": "markdown",
   "metadata": {},
   "source": [
    "### - Antony"
   ]
  },
  {
   "cell_type": "code",
   "execution_count": null,
   "metadata": {},
   "outputs": [],
   "source": [
    "# Este ejercicio fue una excelente manera de iniciar nuestra exploración de Python como grupo. \n",
    "# La estructura clara y los ejemplos prácticos nos permitieron trabajar juntos para comprender y \n",
    "# resolver problemas. Además, la capacidad de compartir y comentar en tiempo real dentro de Jupyter \n",
    "# facilitó la colaboración y el intercambio de ideas. Estoy emocionado de ver hacia dónde nos \n",
    "# llevará nuestra exploración de Python a partir de aquí."
   ]
  },
  {
   "cell_type": "markdown",
   "metadata": {},
   "source": [
    "### - Angélica"
   ]
  },
  {
   "cell_type": "code",
   "execution_count": null,
   "metadata": {},
   "outputs": [],
   "source": [
    "# ¡Qué emocionante fue este ejercicio! Fue genial ver cómo cada línea de código que escribía cobraba vida \n",
    "# en Jupyter con Python y Anaconda. Me encantó cómo comenzamos desde lo básico con \"Hola Mundo\" y luego \n",
    "# avanzamos hacia conceptos más complejos como control de flujo y listas. Me siento más seguro en mi comprensión \n",
    "# de Python y Anaconda después de esta actividad."
   ]
  }
 ],
 "metadata": {
  "kernelspec": {
   "display_name": "EjercicioUMG",
   "language": "python",
   "name": "python3"
  },
  "language_info": {
   "codemirror_mode": {
    "name": "ipython",
    "version": 3
   },
   "file_extension": ".py",
   "mimetype": "text/x-python",
   "name": "python",
   "nbconvert_exporter": "python",
   "pygments_lexer": "ipython3",
   "version": "3.8.18"
  }
 },
 "nbformat": 4,
 "nbformat_minor": 2
}
